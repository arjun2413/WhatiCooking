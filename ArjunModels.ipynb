{
 "cells": [
  {
   "cell_type": "code",
   "execution_count": 40,
   "metadata": {
    "collapsed": true
   },
   "outputs": [],
   "source": [
    "import json\n",
    "import numpy as np\n",
    "np.random.seed(16)\n",
    "from collections import Counter\n",
    "import csv\n",
    "import operator\n",
    "from sklearn import svm\n",
    "from sklearn.neighbors import KNeighborsClassifier\n",
    "from sklearn.decomposition import PCA\n",
    "from sklearn.linear_model import LogisticRegression"
   ]
  },
  {
   "cell_type": "code",
   "execution_count": 41,
   "metadata": {},
   "outputs": [],
   "source": [
    "data = json.load(open('train.json'))\n",
    "np.random.shuffle(data)\n",
    "all_labels = [d['cuisine'] for d in data]\n",
    "                 \n",
    "train_data = data[:35000]\n",
    "train_labels = [d['cuisine'] for d in train_data]\n",
    "validation_data = data[35000:]\n",
    "val_labels = [d['cuisine'] for d in validation_data]\n",
    "test_data = json.load(open('test.json'))\n",
    "test_ids = [d['id'] for d in test_data]"
   ]
  },
  {
   "cell_type": "code",
   "execution_count": 3,
   "metadata": {
    "collapsed": true
   },
   "outputs": [],
   "source": [
    "def evaluate(preds, labels):\n",
    "    corr = 0\n",
    "    for a,b in zip(preds,labels):\n",
    "        if a == b:\n",
    "            corr += 1\n",
    "    print(corr/len(preds))\n",
    "    \n",
    "def writeTest(preds):\n",
    "    with open('test_preds.csv', 'w') as file:\n",
    "        writer = csv.writer(file)\n",
    "        writer.writerow((\"id\",\"cuisine\"))\n",
    "        writer.writerows(zip(test_ids,preds))"
   ]
  },
  {
   "cell_type": "code",
   "execution_count": 4,
   "metadata": {
    "collapsed": true
   },
   "outputs": [],
   "source": [
    "def getWordCounts(data,label):\n",
    "    word_count = dict()\n",
    "    #Get Word Counts for each ingredient per cuisuine\n",
    "    for dish in data:\n",
    "        cuisine = dish['cuisine']\n",
    "        if label == 'all' or label == cuisine:\n",
    "            for ing in dish['ingredients']:\n",
    "                if ing not in word_count:\n",
    "                    word_count[ing] = 1\n",
    "                else:\n",
    "                    word_count[ing] += 1\n",
    "    return word_count\n",
    "\n",
    "def getFrequency(word_count):\n",
    "    freqs = dict()\n",
    "    \n",
    "    total_count = 0\n",
    "    for word in word_count:\n",
    "        total_count += word_count[word]\n",
    "    \n",
    "    for word in word_count:\n",
    "        freqs[word] = word_count[word]/total_count\n",
    "    \n",
    "    return freqs\n",
    "\n",
    "def pickTopNWords(N,freq_overall,freq_cat):\n",
    "    relative_freqs = dict()\n",
    "    \n",
    "    for word in freq_cat:\n",
    "        relative_freqs[word] = freq_cat[word] - freq_overall[word]\n",
    "    \n",
    "    sorted_relative_freqs = sorted(relative_freqs.items(), key=operator.itemgetter(1))\n",
    "    sorted_relative_freqs.reverse()\n",
    "    \n",
    "    TopN = sorted_relative_freqs[:N]\n",
    "    \n",
    "    return set([word for (word,freq) in TopN])\n",
    "\n",
    "def assignIndex(lst):\n",
    "    item_to_index = dict()\n",
    "    for i in range(0,len(lst)):\n",
    "        item_to_index[lst[i]] = i\n",
    "    \n",
    "    return item_to_index\n",
    "\n",
    "def getIngredients(data):\n",
    "    ingredients = set()\n",
    "    for dish in data:\n",
    "        for ing in dish['ingredients']:\n",
    "            if ing not in ingredients:\n",
    "                ingredients.add(ing)\n",
    "    \n",
    "    ingredients = list(ingredients)\n",
    "    \n",
    "    ingredient_index = dict()\n",
    "    for i in range(0,len(ingredients)):\n",
    "        ingredient_index[ingredients[i]] = i\n",
    "    \n",
    "    return ingredient_index"
   ]
  },
  {
   "cell_type": "code",
   "execution_count": 5,
   "metadata": {
    "collapsed": true
   },
   "outputs": [],
   "source": [
    "#baseline\n",
    "\n",
    "cuisineCtr = Counter([d['cuisine'] for d in train_data])\n",
    "mostPopularCuisine = cuisineCtr.most_common(1)[0][0]\n",
    "\n",
    "val_preds = []\n",
    "test_preds = []\n",
    "\n",
    "for d in validation_data:\n",
    "    val_preds.append(mostPopularCuisine)\n",
    "\n",
    "for d in test_data:\n",
    "    test_preds.append(mostPopularCuisine)\n",
    "    "
   ]
  },
  {
   "cell_type": "code",
   "execution_count": 6,
   "metadata": {},
   "outputs": [
    {
     "name": "stdout",
     "output_type": "stream",
     "text": [
      "0.18977796397151236\n"
     ]
    }
   ],
   "source": [
    "evaluate(val_preds, val_labels)\n",
    "writeTest(test_preds)"
   ]
  },
  {
   "cell_type": "code",
   "execution_count": 7,
   "metadata": {},
   "outputs": [],
   "source": [
    "trainY = [dish['cuisine'] for dish in train_data]\n",
    "\n",
    "cuisines = set(train_labels)\n",
    "\n",
    "#Get Word Counts\n",
    "overall_word_counts = getWordCounts(train_data,'all')\n",
    "cuisine_word_counts = dict()\n",
    "for cuisine in cuisines:\n",
    "    cuisine_word_counts[cuisine] = getWordCounts(train_data,cuisine)\n",
    "\n",
    "#Get Frequencies\n",
    "overall_frequencies = getFrequency(overall_word_counts)\n",
    "cuisine_frequencies = dict()\n",
    "for cuisine in cuisines:\n",
    "    cuisine_frequencies[cuisine] = getFrequency(cuisine_word_counts[cuisine])\n",
    "    \n",
    "#Get Top Words\n",
    "TopWords = set()\n",
    "for cuisine in cuisines:\n",
    "    TopWords = TopWords | pickTopNWords(50,overall_frequencies,cuisine_frequencies[cuisine])\n",
    "\n",
    "#Assign Index\n",
    "ingredient_to_index = assignIndex(list(TopWords))\n",
    "#ingredient_to_index = getIngredients(data)\n"
   ]
  },
  {
   "cell_type": "code",
   "execution_count": 8,
   "metadata": {
    "collapsed": true
   },
   "outputs": [],
   "source": [
    "wordSet = set(TopWords)\n",
    "wordId = dict(zip(wordSet, range(len(wordSet))))\n",
    "\n",
    "def feature(datum):\n",
    "    feat = [0]*len(wordSet)\n",
    "    for w in datum['ingredients']:\n",
    "        if w in wordSet:\n",
    "            feat[wordId[w]] = 1\n",
    "    return feat\n",
    "\n",
    "def oneHotEncode(data,item_to_index):\n",
    "    vectors = []\n",
    "    for dish in data:\n",
    "        vector = [0]*len(item_to_index)\n",
    "        ingredients = dish['ingredients']\n",
    "        for ing in ingredients:\n",
    "            if ing in item_to_index:\n",
    "                index = item_to_index[ing]\n",
    "                vector[index] = 1\n",
    "        \n",
    "        vectors.append(vector)\n",
    "    \n",
    "    return vectors"
   ]
  },
  {
   "cell_type": "code",
   "execution_count": 45,
   "metadata": {
    "collapsed": true
   },
   "outputs": [],
   "source": [
    "X = [feature(d) for d in train_data]\n",
    "X_val = [feature(d) for d in validation_data]\n",
    "\n",
    "indexing = getIngredients(train_data)\n",
    "X_all = oneHotEncode(train_data, indexing)\n",
    "X_val_all = oneHotEncode(validation_data, indexing)"
   ]
  },
  {
   "cell_type": "code",
   "execution_count": 10,
   "metadata": {
    "collapsed": true
   },
   "outputs": [],
   "source": [
    "# #KNN\n",
    "\n",
    "# neigh = KNeighborsClassifier(n_neighbors=50)\n",
    "# neigh.fit(X_all, train_labels)\n",
    "# train_preds = neigh.predict(X_all)\n",
    "# val_preds = neigh.predict(X_val_all)"
   ]
  },
  {
   "cell_type": "code",
   "execution_count": 11,
   "metadata": {},
   "outputs": [],
   "source": [
    "# evaluate(train_preds, train_labels)\n",
    "# evaluate(val_preds, val_labels)"
   ]
  },
  {
   "cell_type": "code",
   "execution_count": 12,
   "metadata": {
    "collapsed": true
   },
   "outputs": [],
   "source": [
    "#SVM\n",
    "clf = svm.LinearSVC(C=0.1, multi_class=\"ovr\")\n",
    "clf.fit(X, train_labels)\n",
    "train_preds = clf.predict(X)\n",
    "val_preds = clf.predict(X_val)"
   ]
  },
  {
   "cell_type": "code",
   "execution_count": 13,
   "metadata": {},
   "outputs": [
    {
     "name": "stdout",
     "output_type": "stream",
     "text": [
      "0.7513714285714286\n",
      "0.7306242144951822\n"
     ]
    }
   ],
   "source": [
    "evaluate(train_preds, train_labels)\n",
    "evaluate(val_preds, val_labels)"
   ]
  },
  {
   "cell_type": "code",
   "execution_count": 50,
   "metadata": {
    "collapsed": true
   },
   "outputs": [],
   "source": [
    "X_totalft = [feature(d) for d in data]\n",
    "X_testft = [feature(d) for d in test_data]\n",
    "\n",
    "clftest = svm.LinearSVC(C=0.1, multi_class=\"ovr\")\n",
    "clftest.fit(X_totalft, all_labels)\n",
    "\n",
    "test_preds = clftest.predict(X_testft)\n",
    "writeTest(test_preds)"
   ]
  },
  {
   "cell_type": "code",
   "execution_count": 47,
   "metadata": {},
   "outputs": [
    {
     "name": "stdout",
     "output_type": "stream",
     "text": [
      "0.8777428571428572\n",
      "0.7888563049853372\n"
     ]
    }
   ],
   "source": [
    "#SVM all\n",
    "clf = svm.LinearSVC(C=0.1, multi_class=\"ovr\")\n",
    "clf.fit(X_all, train_labels)\n",
    "train_preds = clf.predict(X_all)\n",
    "val_preds = clf.predict(X_val_all)\n",
    "\n",
    "evaluate(train_preds, train_labels)\n",
    "evaluate(val_preds, val_labels)"
   ]
  },
  {
   "cell_type": "code",
   "execution_count": 48,
   "metadata": {},
   "outputs": [],
   "source": [
    "indexingTest = getIngredients(data)\n",
    "\n",
    "X_total = oneHotEncode(data, indexingTest)\n",
    "X_test = oneHotEncode(test_data, indexingTest)\n",
    "\n",
    "clftest = svm.LinearSVC(C=0.1, multi_class=\"ovr\")\n",
    "clftest.fit(X_total, all_labels)\n",
    "\n",
    "test_preds = clftest.predict(X_test)\n",
    "writeTest(test_preds)"
   ]
  },
  {
   "cell_type": "code",
   "execution_count": 46,
   "metadata": {},
   "outputs": [
    {
     "name": "stdout",
     "output_type": "stream",
     "text": [
      "0.8706285714285714\n",
      "0.7878089652283201\n"
     ]
    }
   ],
   "source": [
    "log = LogisticRegression(multi_class=\"ovr\")\n",
    "log.fit(X_all,train_labels)\n",
    "\n",
    "train_preds = log.predict(X_all)\n",
    "val_preds = log.predict(X_val_all)\n",
    "\n",
    "evaluate(train_preds, train_labels)\n",
    "evaluate(val_preds, val_labels)"
   ]
  },
  {
   "cell_type": "code",
   "execution_count": 44,
   "metadata": {
    "collapsed": true
   },
   "outputs": [],
   "source": [
    "log2 = LogisticRegression(multi_class=\"ovr\")\n",
    "log2.fit(X_total,all_labels)\n",
    "\n",
    "test_preds = log2.predict(X_test)\n",
    "writeTest(test_preds)"
   ]
  },
  {
   "cell_type": "code",
   "execution_count": 49,
   "metadata": {},
   "outputs": [
    {
     "name": "stdout",
     "output_type": "stream",
     "text": [
      "0.7564\n",
      "0.7379555927943025\n"
     ]
    }
   ],
   "source": [
    "log = LogisticRegression(multi_class=\"ovr\")\n",
    "log.fit(X,train_labels)\n",
    "\n",
    "train_preds = log.predict(X)\n",
    "val_preds = log.predict(X_val)\n",
    "\n",
    "evaluate(train_preds, train_labels)\n",
    "evaluate(val_preds, val_labels)"
   ]
  },
  {
   "cell_type": "code",
   "execution_count": 51,
   "metadata": {
    "collapsed": true
   },
   "outputs": [],
   "source": [
    "log2 = LogisticRegression(multi_class=\"ovr\")\n",
    "log2.fit(X_totalft,all_labels)\n",
    "\n",
    "test_preds = log2.predict(X_testft)\n",
    "writeTest(test_preds)"
   ]
  },
  {
   "cell_type": "code",
   "execution_count": null,
   "metadata": {
    "collapsed": true
   },
   "outputs": [],
   "source": []
  }
 ],
 "metadata": {
  "kernelspec": {
   "display_name": "Python [conda root]",
   "language": "python",
   "name": "conda-root-py"
  },
  "language_info": {
   "codemirror_mode": {
    "name": "ipython",
    "version": 3
   },
   "file_extension": ".py",
   "mimetype": "text/x-python",
   "name": "python",
   "nbconvert_exporter": "python",
   "pygments_lexer": "ipython3",
   "version": "3.5.3"
  }
 },
 "nbformat": 4,
 "nbformat_minor": 2
}
